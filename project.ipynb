{
 "cells": [
  {
   "cell_type": "markdown",
   "metadata": {},
   "source": [
    "# IMDB Reviews Text Analysis Regression"
   ]
  },
  {
   "cell_type": "markdown",
   "metadata": {},
   "source": [
    "We used regression to predict the box office revenue for each movie since our features are (or can be made) continuous. Within this file we split our data in train/test and create regression learners to predict the box office revenues.\n",
    "\n",
    "There are a lot of large files that need to be downloaded to run the actual notebook. Because none of the datasets we used are available online and we manually scraped most of our data, we placed all our data in offline pickle files. Due to the extreme amount of text data required to run this notebook, we ended up with a couple gigabytes of required memory just to run this entire notebook. Since this exceeds the 20MB limit, please contact us if you'd like to see a live demo as we can remote access into the computer that contains all the necessary data.\n",
    "\n",
    "We set aside three lists for your testing:\n",
    "    One list with 25 box offices (dependent variable) - 25test_boxoffice_data.pkl\n",
    "    One list with 25 strings, each representing a concatenation of all the reviews for that movie in the first three weeks\n",
    "        - 25test_review_data.pkl\n",
    "    One matrix that's been transformed from a trained count vectorizor - 25X_test_counts.pkl\n",
    "\n",
    "We included a trained linear regression & random forest model for the review texts. (reviewtext_LR.pkl, reviewtext_RF.pkl)"
   ]
  },
  {
   "cell_type": "code",
   "execution_count": 500,
   "metadata": {},
   "outputs": [],
   "source": [
    "import requests\n",
    "from urllib.parse import urljoin\n",
    "import math\n",
    "import csv\n",
    "import time\n",
    "import sqlite3\n",
    "import matplotlib.pyplot as plt\n",
    "import statsmodels.api as sm\n",
    "import matplotlib.pyplot as plt\n",
    "from patsy import dmatrices\n",
    "from sklearn.linear_model import LogisticRegression\n",
    "from sklearn.cross_validation import train_test_split\n",
    "from sklearn import metrics\n",
    "from sklearn.cross_validation import cross_val_score\n",
    "from nltk.corpus import stopwords\n",
    "from math import log\n",
    "from sklearn import linear_model\n",
    "from sklearn import preprocessing\n",
    "import numpy as np\n",
    "import pandas as pd\n",
    "from sklearn.feature_extraction import text \n",
    "from sklearn.feature_extraction.text import CountVectorizer\n",
    "from sklearn.ensemble import RandomForestRegressor\n",
    "from sklearn.feature_extraction.text import TfidfTransformer\n",
    "from collections import defaultdict\n",
    "import pickle as p\n",
    "\n",
    "\n",
    "sqlite_file = \"C:\\\\Users\\\\kevin\\\\Desktop\\\\CS 175\\\\Project\\\\sqlite\\\\my_db.sqlite\"\n",
    "review_sqlite_file = \"C:\\\\Users\\\\kevin\\\\Desktop\\\\CS 175\\\\Project\\\\sqlite\\\\review_counts.sqlite\"\n",
    "stopWords = set(stopwords.words('english'))\n",
    "conn = sqlite3.connect(sqlite_file)\n",
    "conn1 = sqlite3.connect(review_sqlite_file)\n",
    "c = conn.cursor()\n",
    "c1 = conn1.cursor()"
   ]
  },
  {
   "cell_type": "markdown",
   "metadata": {},
   "source": [
    "We want to extract all of the movie metadata, reviews and review counts into individual arrays that maintain the same order. This is initially so that we can view the spread of our data. We created separate arrays holding normalized budgets and box office. To normalize the data, we take the log 10 of each budget/box office."
   ]
  },
  {
   "cell_type": "code",
   "execution_count": 552,
   "metadata": {},
   "outputs": [
    {
     "name": "stdout",
     "output_type": "stream",
     "text": [
      "Length of array containing movies with: a budget and reviews: \n",
      "3747\n"
     ]
    }
   ],
   "source": [
    "all_budgets = []\n",
    "all_genres = []\n",
    "all_review_scores = []\n",
    "normalized_budgets = []\n",
    "review_counts = []\n",
    "\n",
    "all_boxoffice = []\n",
    "normalized_boxoffice = []\n",
    "\n",
    "with open('movie_metadata.csv', 'r', encoding='utf-8') as moviecsv:\n",
    "    moviecsv = csv.DictReader(moviecsv)\n",
    "    count = 0\n",
    "    for line in moviecsv:\n",
    "        budget = line[\"Budget\"]\n",
    "        imdb_id = line[\"tconst\"]\n",
    "        if budget != \"0\" and budget != \"\" and budget != \"LOOKINTO\":\n",
    "            review_lengths = c1.execute(\"SELECT len FROM reviews_score_three WHERE imdb_id ='\" + imdb_id + \"'\").fetchall()\n",
    "            if not review_lengths:\n",
    "                review_counts.append(0)\n",
    "            else:\n",
    "                review_counts.append(review_lengths[0][0])\n",
    "            \n",
    "            all_budgets.append(int(budget))\n",
    "            normalized_budgets.append(math.log(int(budget), 10))\n",
    "            box_office = line['BoxOffice'].split(\".\")[0]\n",
    "            genre = line['Genre'].lower().strip(\" \")\n",
    "            all_boxoffice.append(int(box_office))\n",
    "            all_genres.append(genre)\n",
    "            normalized_boxoffice.append(math.log(int(box_office), 10)) \n",
    "\n",
    "all_review_scores = []\n",
    "review_boxoffice = []\n",
    "with open('movie_metadata.csv', 'r', encoding='utf-8') as moviecsv:\n",
    "    moviecsv = csv.DictReader(moviecsv)\n",
    "    for line in moviecsv:\n",
    "        imdb_id = line['tconst']\n",
    "        stmt = \"SELECT * FROM reviews_score_three WHERE imdb_id = '\" + imdb_id + \"'\"\n",
    "        response = c1.execute(stmt).fetchall()\n",
    "        if len(response) > 0:\n",
    "            all_review_scores.append(response[0][3])\n",
    "            box_office = line['BoxOffice'].split(\".\")[0]\n",
    "            review_boxoffice.append(math.log(int(box_office), 12))\n",
    "\n",
    "            \n",
    "def assign_num_to_genres(genres):\n",
    "    result = defaultdict(int)\n",
    "    unique_number = 0\n",
    "    for genre in genres:\n",
    "        if result[genre] == 0:\n",
    "            unique_number += 1\n",
    "            result[genre] = unique_number\n",
    "    return result\n",
    "       \n",
    "\n",
    "genre_numbers_dict = assign_num_to_genres(all_genres)\n",
    "# numerical value assigned to each genre\n",
    "transformed_genres = [genre_numbers_dict[genre] for genre in all_genres]\n",
    "print(\"Length of array containing movies with: a budget and reviews: \")\n",
    "print(len(all_boxoffice))"
   ]
  },
  {
   "cell_type": "markdown",
   "metadata": {},
   "source": [
    "### Distributions of Data"
   ]
  },
  {
   "cell_type": "code",
   "execution_count": 502,
   "metadata": {},
   "outputs": [
    {
     "name": "stdout",
     "output_type": "stream",
     "text": [
      "Mean= 5.77341873498799\n",
      "Median= 6.698970004336019\n"
     ]
    },
    {
     "data": {
      "image/png": "[encoded data removed]",
      "text/plain": [
       "<matplotlib.figure.Figure at 0x1820df4bd30>"
      ]
     },
     "metadata": {},
     "output_type": "display_data"
    },
    {
     "name": "stdout",
     "output_type": "stream",
     "text": [
      "Mean= 29852149.163597547\n",
      "Median= 2395410\n"
     ]
    },
    {
     "data": {
      "image/png": "[encoded data removed]",
      "text/plain": [
       "<matplotlib.figure.Figure at 0x182028d1198>"
      ]
     },
     "metadata": {},
     "output_type": "display_data"
    }
   ],
   "source": [
    "total = 0\n",
    "count = len(normalized_budgets)\n",
    "for value in normalized_budgets:\n",
    "    total += int(value)\n",
    "mean = total/count\n",
    "print(\"Mean= \" + str(mean))\n",
    "median = (sorted(normalized_budgets))[len(normalized_budgets) // 2]\n",
    "print(\"Median= \" + str(median))\n",
    "\n",
    "\n",
    "plt.hist(normalized_budgets, 20)\n",
    "plt.title(\"Distribution of Log10 Movie Budgets\")\n",
    "plt.xlabel(\"Budgets Log10\")\n",
    "plt.show()\n",
    "\n",
    "for value in all_boxoffice:\n",
    "    total += int(value)\n",
    "mean = total/count\n",
    "print(\"Mean= \" + str(mean))\n",
    "median = (sorted(all_boxoffice))[len(all_boxoffice) // 2]\n",
    "print(\"Median= \" + str(median))\n",
    "\n",
    "\n",
    "plt.hist(all_boxoffice, 20)\n",
    "plt.title(\"Distribution of Box Office Revenue (not normalized)\")\n",
    "plt.xlabel(\"Box Office Revenue\")\n",
    "plt.show()"
   ]
  },
  {
   "cell_type": "markdown",
   "metadata": {},
   "source": [
    "We can see that the data is much more evenly distributed when we take the log 10 of each value. "
   ]
  },
  {
   "cell_type": "markdown",
   "metadata": {},
   "source": [
    "## Functions for calculating regression learners"
   ]
  },
  {
   "cell_type": "code",
   "execution_count": 503,
   "metadata": {
    "collapsed": true
   },
   "outputs": [],
   "source": [
    "def random_forests(X_train, X_test, Y_train, Y_test, model_name=None):\n",
    "    clf = RandomForestRegressor(n_estimators = 10, max_depth = 8, random_state = 0).fit(X_train, Y_train)\n",
    "    if model_name:\n",
    "#         clf = p.load(open(\"offline_learners/\"+model_name+\".pkl\", \"rb\"))\n",
    "        p.dump(clf, open(\"offline_learners/\"+model_name+\".pkl\", \"wb\"))\n",
    "\n",
    "    \n",
    "    predicted_RF = clf.predict(X_test)\n",
    "    mse = np.mean((predicted_RF - Y_test)**2)\n",
    "    variance = clf.score(X_test, Y_test)\n",
    "    \n",
    "    print(\"Random Forests: \")\n",
    "    print(\"MSE= \" + str(mse))\n",
    "    print(\"variance= \" + str(variance))\n",
    "    \n",
    "    return clf"
   ]
  },
  {
   "cell_type": "code",
   "execution_count": 504,
   "metadata": {},
   "outputs": [],
   "source": [
    " def linear_regression_graph(feature, outcome, title, model_name=None):\n",
    "    x_train, x_test, y_train, y_test = train_test_split(feature, \n",
    "                                                        outcome, test_size=.25)\n",
    "    x_train_reshape = np.reshape(x_train, (-1, 1))\n",
    "    x_test_reshape = np.reshape(x_test, (-1, 1))\n",
    "    \n",
    "    print(\"Linear Regression: \")\n",
    "    regr = linear_model.LinearRegression()\n",
    "    regr.fit(x_train_reshape, y_train)\n",
    "    print(\"coefficients: \", regr.coef_)\n",
    "    \n",
    "    if model_name:\n",
    "#         regr = p.load(open(\"offline_learners/\"+model_name+\".pkl\", \"rb\"))\n",
    "        p.dump(regr, open(\"offline_learners/\"+model_name+\".pkl\", \"wb\"))\n",
    "    \n",
    "    predicted_LR = regr.predict(x_test_reshape)\n",
    "\n",
    "    # the mean square error\n",
    "    mse = np.mean((regr.predict(x_test_reshape)-y_test)**2)\n",
    "    print(\"mean squared error: \", mse)\n",
    "\n",
    "    variance = regr.score(x_test_reshape, y_test) \n",
    "    print(\"variance score: \", variance)\n",
    "\n",
    "    plt.scatter(x_train, y_train, color=\"blue\")\n",
    "    plt.plot(np.unique(x_test), \n",
    "             np.poly1d(np.polyfit(x_test, y_test, 1))(np.unique(x_test)), color='red')\n",
    "    if title == \"Profit Percentage\":\n",
    "        plt.ylim([0, 500])\n",
    "    if title == \"Review Counts\":\n",
    "        plt.xlim([0, 500])\n",
    "    plt.xticks(())\n",
    "    plt.yticks(())\n",
    "    plt.title(\"Box Office & \"+title)\n",
    "    plt.ylabel(\"Box Office\")\n",
    "    plt.xlabel(title)\n",
    "    plt.show()"
   ]
  },
  {
   "cell_type": "markdown",
   "metadata": {},
   "source": [
    "# Budget Regression\n",
    "Here, we calcuate the linear regression & random forest result using budget as the only feature."
   ]
  },
  {
   "cell_type": "code",
   "execution_count": 507,
   "metadata": {},
   "outputs": [
    {
     "name": "stdout",
     "output_type": "stream",
     "text": [
      "Random Forests: \n",
      "MSE= 0.699254589508\n",
      "variance= 0.618371687876\n",
      "Linear Regression: \n",
      "coefficients:  [ 0.75824237]\n",
      "mean squared error:  0.734378817791\n",
      "variance score:  0.612807274317\n"
     ]
    },
    {
     "data": {
      "image/png": "[encoded data removed]",
      "text/plain": [
       "<matplotlib.figure.Figure at 0x1820a9fe080>"
      ]
     },
     "metadata": {},
     "output_type": "display_data"
    }
   ],
   "source": [
    "x_train, x_test, y_train, y_test = train_test_split(normalized_budgets, normalized_boxoffice, test_size=.25)\n",
    "x_train = np.reshape(x_train, (-1, 1))\n",
    "x_test = np.reshape(x_test, (-1, 1))\n",
    "\n",
    "random_forests(x_train, x_test, y_train, y_test, \"budget_RF\")\n",
    "linear_regression_graph(normalized_budgets, normalized_boxoffice, \"Budget\")"
   ]
  },
  {
   "cell_type": "markdown",
   "metadata": {},
   "source": [
    "# IMDB User Review Score Average Regression\n",
    "Here, we calcuate the linear regression & random forest result using an average of the review scores from the first 3 weeks after movie release as the only feature."
   ]
  },
  {
   "cell_type": "code",
   "execution_count": 508,
   "metadata": {},
   "outputs": [
    {
     "name": "stdout",
     "output_type": "stream",
     "text": [
      "Random Forests: \n",
      "MSE= 1.32754436633\n",
      "variance= 0.221754358962\n",
      "\n",
      "Linear Regression: \n",
      "coefficients:  [-0.10876903]\n",
      "mean squared error:  1.71597211601\n",
      "variance score:  0.014052499711\n"
     ]
    },
    {
     "data": {
      "image/png": "[encoded data removed]",
      "text/plain": [
       "<matplotlib.figure.Figure at 0x1820f6f4940>"
      ]
     },
     "metadata": {},
     "output_type": "display_data"
    }
   ],
   "source": [
    "x_train, x_test, y_train, y_test = train_test_split(all_review_scores, review_boxoffice, test_size=.25)\n",
    "x_train = np.reshape(x_train, (-1, 1))\n",
    "x_test = np.reshape(x_test, (-1, 1))\n",
    "\n",
    "random_forests(x_train, x_test, y_train, y_test, \"reviewscore_RF\")\n",
    "print()\n",
    "linear_regression_graph(all_review_scores, review_boxoffice, \"IMDB Review Score Averages\")"
   ]
  },
  {
   "cell_type": "markdown",
   "metadata": {},
   "source": [
    "# Genre Regression\n",
    "We converted the genres to numerical values since there were 67 unique genres and used these values to predict box office revenue."
   ]
  },
  {
   "cell_type": "code",
   "execution_count": 509,
   "metadata": {},
   "outputs": [
    {
     "name": "stdout",
     "output_type": "stream",
     "text": [
      "Random Forests: \n",
      "MSE= 1.54944717721\n",
      "variance= 0.16147308168\n",
      "\n",
      "Linear Regression: \n",
      "coefficients:  [ 0.07202958]\n",
      "mean squared error:  1.99679858777\n",
      "variance score:  0.0175194823573\n"
     ]
    },
    {
     "data": {
      "image/png": "[encoded data removed]",
      "text/plain": [
       "<matplotlib.figure.Figure at 0x1820f62d470>"
      ]
     },
     "metadata": {},
     "output_type": "display_data"
    }
   ],
   "source": [
    "x_train, x_test, y_train, y_test = train_test_split(transformed_genres, \n",
    "                                                        normalized_boxoffice, test_size=.25)\n",
    "x_train = np.reshape(x_train, (-1, 1))\n",
    "x_test = np.reshape(x_test, (-1, 1))\n",
    "random_forests(x_train, x_test, y_train, y_test, \"genre_RF\")\n",
    "print()\n",
    "linear_regression_graph(transformed_genres, normalized_boxoffice, \"Genres\")"
   ]
  },
  {
   "cell_type": "markdown",
   "metadata": {},
   "source": [
    "# IMDB Review Counts Regression\n",
    "First, we want to gather all movies that have at least 1 review in the first three weeks"
   ]
  },
  {
   "cell_type": "code",
   "execution_count": 510,
   "metadata": {
    "scrolled": false
   },
   "outputs": [
    {
     "name": "stdout",
     "output_type": "stream",
     "text": [
      "Random Forests: \n",
      "MSE= 0.801750420674\n",
      "variance= 0.574220555311\n",
      "\n",
      "Linear Regression: \n",
      "coefficients:  [ 0.00342608]\n",
      "mean squared error:  1.53670313396\n",
      "variance score:  0.210991950888\n"
     ]
    },
    {
     "data": {
      "image/png": "[encoded data removed]",
      "text/plain": [
       "<matplotlib.figure.Figure at 0x1821027ee10>"
      ]
     },
     "metadata": {},
     "output_type": "display_data"
    }
   ],
   "source": [
    "\n",
    "x_train, x_test, y_train, y_test = train_test_split(review_counts, normalized_boxoffice, test_size=.25)\n",
    "\n",
    "x_train = np.reshape(x_train, (-1,1))\n",
    "x_test = np.reshape(x_test, (-1,1))\n",
    "random_forests(x_train, x_test, y_train, y_test, \"reviewcount_RF\")\n",
    "print()\n",
    "linear_regression_graph(review_counts, normalized_boxoffice, \"Review Counts\")"
   ]
  },
  {
   "cell_type": "markdown",
   "metadata": {},
   "source": [
    "# IMDB Review Text Analysis\n",
    "Before we dive into the IMDB review text TFIDF learner, we wanted to analyze the metrics of the review text.\n",
    "First, we want to see how many movies have at least 1 review in the first 3 weeks of release."
   ]
  },
  {
   "cell_type": "code",
   "execution_count": 511,
   "metadata": {
    "scrolled": true
   },
   "outputs": [],
   "source": [
    "review_rows = c.execute(\"SELECT imdb_id FROM reviews\").fetchall()\n",
    "\n",
    "review_counts = {}\n",
    "count = 0\n",
    "for review in review_rows:\n",
    "    count += 1\n",
    "    if count > 0:\n",
    "        imdb_id = review[0]\n",
    "        if imdb_id in review_counts:\n",
    "            review_counts[imdb_id] += 1\n",
    "        else:\n",
    "            review_counts[imdb_id] = 1"
   ]
  },
  {
   "cell_type": "code",
   "execution_count": 512,
   "metadata": {},
   "outputs": [],
   "source": [
    "# Selecting all movies that have at least 1 review in the first three weeks\n",
    "review_rows = c.execute(\"SELECT imdb_id FROM reviews\").fetchall()\n",
    "imdb_ids = []\n",
    "reviews = []\n",
    "three_weeks_count = []\n",
    "\n",
    "for review in review_rows:\n",
    "    count += 1\n",
    "    if count > 0:\n",
    "        imdb_id = review[0]\n",
    "        if imdb_id in review_counts:\n",
    "            review_counts[imdb_id] += 1\n",
    "        else:\n",
    "            review_counts[imdb_id] = 1            "
   ]
  },
  {
   "cell_type": "code",
   "execution_count": 513,
   "metadata": {},
   "outputs": [
    {
     "name": "stdout",
     "output_type": "stream",
     "text": [
      "Number of movies counted: 4555\n",
      "Mean of values: 317.029198683\n",
      "Median of values: 114.0\n",
      "STD of values: 586.708052794\n",
      "Minimum of values: 2\n",
      "Max of values: 10294\n",
      "Number of movies w/ more than 150 reviews: 2026\n",
      "Number of movies w/ more than 40 reviews: 3187\n",
      "Number of movies w/ more than 30 reviews: 3387\n"
     ]
    }
   ],
   "source": [
    "print(\"Number of movies counted: \" + str(len(review_counts)))\n",
    "\n",
    "\n",
    "review_totals = []\n",
    "above_40 = 0\n",
    "above_30 = 0\n",
    "above_150 = 0\n",
    "above_20 = []\n",
    "for imdb_id, review_total in review_counts.items():\n",
    "    review_totals.append(review_total)\n",
    "    if review_total > 150:\n",
    "        above_150 += 1\n",
    "    if review_total > 40:\n",
    "        above_40 += 1\n",
    "    if review_total > 30:\n",
    "        above_30 += 1\n",
    "    if review_total > 20:\n",
    "        above_20.append(imdb_id)\n",
    "\n",
    "review_totals = np.array(sorted(review_totals))\n",
    "print(\"Mean of values: \" + str(np.mean(review_totals)))\n",
    "print(\"Median of values: \" + str(np.median(review_totals)))\n",
    "print(\"STD of values: \" + str(np.std(review_totals)))\n",
    "print(\"Minimum of values: \" + str(min(review_totals)))\n",
    "print(\"Max of values: \" + str(max(review_totals)))\n",
    "\n",
    "print(\"Number of movies w/ more than 150 reviews: \" + str(above_150))\n",
    "print(\"Number of movies w/ more than 40 reviews: \" + str(above_40))\n",
    "print(\"Number of movies w/ more than 30 reviews: \" + str(above_30))"
   ]
  },
  {
   "cell_type": "markdown",
   "metadata": {},
   "source": [
    "Next, we will move on to gathering our data from our learners. After conducting some tests and figuring out that using data from all movies actually decreased variance, we will stick with the first three weeks."
   ]
  },
  {
   "cell_type": "markdown",
   "metadata": {},
   "source": [
    "### First, lets assemble our data for our learners by grabbing reviews from the first three weeks"
   ]
  },
  {
   "cell_type": "code",
   "execution_count": 515,
   "metadata": {},
   "outputs": [],
   "source": [
    "stmt = \"SELECT imdb_id, len, reviews FROM reviews_three\"\n",
    "response = c.execute(stmt).fetchall()\n",
    "\n",
    "reviews = []\n",
    "box_offices = []\n",
    "imdb_ids = []\n",
    "for row in response:\n",
    "    if row[1] > 0:\n",
    "        imdb_ids.append(row[0])\n",
    "        reviews.append(row[2])\n",
    "        box = c.execute(\"SELECT box FROM movies WHERE imdb_id = '\" + row[0] + \"'\").fetchall()[0][0]\n",
    "        box_offices.append(log(float(box))/log(10))\n",
    "\n",
    "lab_enc = preprocessing.LabelEncoder()\n",
    "box_offices = lab_enc.fit_transform(box_offices)\n",
    "\n"
   ]
  },
  {
   "cell_type": "code",
   "execution_count": 516,
   "metadata": {
    "collapsed": true
   },
   "outputs": [],
   "source": [
    "test_review_data = reviews[:25]\n",
    "test_boxoffice_data = reviews[:25]\n",
    "p.dump(test_review_data, open(\"offline_learners/25test_review_data.pkl\", \"wb\"))\n",
    "p.dump(test_boxoffice_data, open(\"offline_learners/25test_boxoffice_data.pkl\", \"wb\"))"
   ]
  },
  {
   "cell_type": "markdown",
   "metadata": {},
   "source": [
    "After checking all the movies, only 3999 out of the about 5000 have reviews within the first three weeks. Next, like put our data in to the correct format for our linear regression.\n"
   ]
  },
  {
   "cell_type": "markdown",
   "metadata": {},
   "source": [
    "### Functions for data splitting and learners"
   ]
  },
  {
   "cell_type": "code",
   "execution_count": 524,
   "metadata": {
    "collapsed": true
   },
   "outputs": [],
   "source": [
    "from nltk import word_tokenize          \n",
    "from nltk.stem import WordNetLemmatizer \n",
    "class LemmaTokenizer(object):\n",
    "    def __init__(self):\n",
    "        self.wnl = WordNetLemmatizer()\n",
    "    def __call__(self, articles):\n",
    "        return [self.wnl.lemmatize(t) for t in word_tokenize(articles)]"
   ]
  },
  {
   "cell_type": "code",
   "execution_count": 519,
   "metadata": {},
   "outputs": [],
   "source": [
    "def extract_split_features(train_data, test_data, max_features_val = None, ngrams_val = (1,1)):\n",
    "    x_train, x_test, y_train, y_test = train_test_split(train_data, test_data, test_size=.25)\n",
    "    \n",
    "    count_vect = CountVectorizer(min_df = 3, stop_words = stopWords, max_features = max_features_val)\n",
    "    X_train_counts = count_vect.fit_transform(x_train)\n",
    "    X_test_counts = count_vect.transform(x_test)\n",
    "\n",
    "    tfidf_transformer = TfidfTransformer()\n",
    "    X_train_tfidf = tfidf_transformer.fit_transform(X_train_counts)\n",
    "    X_test_tfidf = tfidf_transformer.transform(X_test_counts)\n",
    "    \n",
    "    features = count_vect.get_feature_names()\n",
    "    \n",
    "    print(top_mean_feats(X_train_tfidf, features, top_n = 25))\n",
    "#     p.dump(X_test_counts, open(\"offline_learners/25X_test_counts.pkl\", \"wb\"))\n",
    "\n",
    "    return (X_train_counts, X_train_tfidf, X_test_counts, X_test_tfidf, y_train, y_test)"
   ]
  },
  {
   "cell_type": "code",
   "execution_count": 520,
   "metadata": {
    "collapsed": true
   },
   "outputs": [],
   "source": [
    "# Get top tfidf values in a row and return them with their corresponding feature names\n",
    "# Source: https://buhrmann.github.io/tfidf-analysis.html\n",
    "\n",
    "def top_tfidf_feats(row, features, top_n=25):\n",
    "    \n",
    "    topn_ids = np.argsort(row)[::-1][:top_n]\n",
    "    top_feats = [(features[i], row[i]) for i in topn_ids]\n",
    "    df = pd.DataFrame(top_feats)\n",
    "    df.columns = ['feature', 'tfidf']\n",
    "    return df\n",
    "\n",
    "def top_mean_feats(Xtr, features, grp_ids=None, min_tfidf=0.1, top_n=25):\n",
    "    ''' Return the top n features that on average are most important amongst documents in rows\n",
    "        indentified by indices in grp_ids. '''\n",
    "    if grp_ids:\n",
    "        D = Xtr[grp_ids].toarray()\n",
    "    else:\n",
    "        D = Xtr.toarray()\n",
    "\n",
    "    D[D < min_tfidf] = 0\n",
    "    tfidf_means = np.mean(D, axis=0)\n",
    "    return top_tfidf_feats(tfidf_means, features, top_n)"
   ]
  },
  {
   "cell_type": "code",
   "execution_count": 527,
   "metadata": {
    "collapsed": true
   },
   "outputs": [],
   "source": [
    "def linear_regression(X_train, X_test, Y_train, Y_test, model_name=None):\n",
    "    \n",
    "    from sklearn import linear_model\n",
    "    clf = linear_model.LinearRegression().fit(X_train, Y_train)\n",
    "    if model_name:\n",
    "#         regr = p.load(open(\"offline_learners/\"+model_name+\".pkl\", \"rb\"))\n",
    "        p.dump(clf, open(\"offline_learners/\"+model_name+\".pkl\", \"wb\"))\n",
    "        \n",
    "    predicted_LR = clf.predict(X_test)\n",
    "    \n",
    "    mse = np.mean((predicted_LR - Y_test)**2)\n",
    "    variance = clf.score(X_test, Y_test)\n",
    "    \n",
    "    print(\"Linear Regression: \")\n",
    "    print(\"MSE= \" + str(mse))\n",
    "    print(\"variance= \" + str(variance))\n",
    "    \n",
    "    return predicted_LR\n",
    "        "
   ]
  },
  {
   "cell_type": "code",
   "execution_count": 522,
   "metadata": {
    "collapsed": true
   },
   "outputs": [],
   "source": [
    "def support_vector(X_train, X_test, Y_train, Y_test):\n",
    "    \n",
    "    from sklearn.svm import SVR\n",
    "    \n",
    "    clf = SVR(C=1.0, epsilon=0.2).fit(X_train, Y_train) \n",
    "    \n",
    "    predicted_SVR = clf.predict(X_test)\n",
    "    mse = np.mean((predicted_SVR - Y_test)**2)\n",
    "    variance = clf.score(X_test, Y_test)\n",
    "    \n",
    "    print(\"Support Vector Regression: \")\n",
    "    print(\"MSE= \" + str(mse))\n",
    "    print(\"variance= \" + str(variance))"
   ]
  },
  {
   "cell_type": "markdown",
   "metadata": {},
   "source": [
    "Next, we split and count vectorize the features, and print out the top 24 terms with the highest tfidf."
   ]
  },
  {
   "cell_type": "code",
   "execution_count": 523,
   "metadata": {
    "scrolled": false
   },
   "outputs": [
    {
     "name": "stdout",
     "output_type": "stream",
     "text": [
      "        feature     tfidf\n",
      "0         movie  0.108041\n",
      "1          film  0.076969\n",
      "2        horror  0.008280\n",
      "3           one  0.007916\n",
      "4          like  0.006192\n",
      "5        action  0.006160\n",
      "6         story  0.004970\n",
      "7           war  0.004889\n",
      "8   documentary  0.004867\n",
      "9          khan  0.004174\n",
      "10    animation  0.004120\n",
      "11         book  0.003974\n",
      "12           3d  0.003294\n",
      "13       family  0.003224\n",
      "14         good  0.003112\n",
      "15       akshay  0.003076\n",
      "16          see  0.002973\n",
      "17       comedy  0.002823\n",
      "18         kids  0.002814\n",
      "19      chinese  0.002786\n",
      "20          ben  0.002781\n",
      "21        music  0.002750\n",
      "22         kate  0.002700\n",
      "23        funny  0.002698\n",
      "24         love  0.002694\n"
     ]
    }
   ],
   "source": [
    "X_train_counts, X_train_tfidf, X_test_counts, X_test_tfidf, Y_train, Y_test = extract_split_features(reviews, box_offices)\n"
   ]
  },
  {
   "cell_type": "markdown",
   "metadata": {},
   "source": [
    "## Review Text Learners"
   ]
  },
  {
   "cell_type": "markdown",
   "metadata": {},
   "source": [
    "Let train our learner from just using the count vectorizers."
   ]
  },
  {
   "cell_type": "markdown",
   "metadata": {},
   "source": [
    "Next, we'll try with the tfidf vectors"
   ]
  },
  {
   "cell_type": "code",
   "execution_count": 528,
   "metadata": {
    "scrolled": false
   },
   "outputs": [
    {
     "name": "stdout",
     "output_type": "stream",
     "text": [
      "Linear Regression: \n",
      "MSE= 160547068.323\n",
      "variance= -133.402225163\n",
      "\n",
      "Random Forests: \n",
      "MSE= 323934.094383\n",
      "variance= 0.728818074688\n"
     ]
    }
   ],
   "source": [
    "predicted_LR = linear_regression(X_train_counts, X_test_counts, Y_train, Y_test, \"reviewtext_LR\")\n",
    "print(\"\")\n",
    "predicted_RF = random_forests(X_train_counts, X_test_counts, Y_train, Y_test, \"reviewtext_RF\")\n"
   ]
  },
  {
   "cell_type": "code",
   "execution_count": 529,
   "metadata": {},
   "outputs": [
    {
     "name": "stdout",
     "output_type": "stream",
     "text": [
      "Linear Regression: \n",
      "MSE= 549227.586458\n",
      "variance= 0.540213281303\n",
      "\n",
      "Random Forests: \n",
      "MSE= 342992.073411\n",
      "variance= 0.712863658234\n"
     ]
    }
   ],
   "source": [
    "predicted_LR = linear_regression(X_train_tfidf, X_test_tfidf, Y_train, Y_test, \"reviewtexttfidf_LR\")\n",
    "print(\"\")\n",
    "clf_RF = random_forests(X_train_tfidf, X_test_tfidf, Y_train, Y_test, \"reviewtexttfidf_RF\")\n",
    "\n"
   ]
  },
  {
   "cell_type": "markdown",
   "metadata": {},
   "source": [
    "We noticed in our analysis that review sentiment has very little effect on box office. Lets try to remove polarizing words, to test if that is just causing additional noise. We will add in positive and negative words we found in an online corpus."
   ]
  },
  {
   "cell_type": "code",
   "execution_count": 530,
   "metadata": {
    "collapsed": true
   },
   "outputs": [],
   "source": [
    "polarized = []\n",
    "fp = open('positive-words.txt')\n",
    "\n",
    "for i, line in enumerate(fp):\n",
    "    if i > 34:\n",
    "        polarized.append(line.strip())\n",
    "\n",
    "\n",
    "fp = open('negative-words.txt')\n",
    "\n",
    "for i, line in enumerate(fp):\n",
    "    if i > 34:\n",
    "        polarized.append(line.strip())\n",
    "\n",
    "fp.close()\n",
    "new_stopwords = text.ENGLISH_STOP_WORDS.union(polarized)\n",
    "\n",
    "\n",
    "def extract_split_features_no_polarized(train_data, test_data):\n",
    "    \n",
    "    x_train, x_test, y_train, y_test = train_test_split(train_data, test_data, test_size=.25)\n",
    "\n",
    "    count_vect = CountVectorizer(stop_words = new_stopwords, min_df = 3)\n",
    "    X_train_counts = count_vect.fit_transform(x_train)\n",
    "    X_test_counts = count_vect.transform(x_test)\n",
    "\n",
    "    tfidf_transformer = TfidfTransformer()\n",
    "    X_train_tfidf = tfidf_transformer.fit_transform(X_train_counts)\n",
    "    X_test_tfidf = tfidf_transformer.transform(X_test_counts)\n",
    "\n",
    "    return (X_train_counts, X_train_tfidf, X_test_counts, X_test_tfidf, y_train, y_test)\n"
   ]
  },
  {
   "cell_type": "code",
   "execution_count": 531,
   "metadata": {},
   "outputs": [
    {
     "name": "stdout",
     "output_type": "stream",
     "text": [
      "Linear Regression: \n",
      "MSE= 555998.210937\n",
      "variance= 0.522783903654\n",
      "\n",
      "Random Forests: \n",
      "MSE= 326478.702623\n",
      "variance= 0.719781666666\n"
     ]
    }
   ],
   "source": [
    "X_train_counts, X_train_tfidf, X_test_counts, X_test_tfidf, Y_train, Y_test = extract_split_features_no_polarized(reviews, box_offices)\n",
    "\n",
    "predicted_LR = linear_regression(X_train_tfidf, X_test_tfidf, Y_train, Y_test)\n",
    "print(\"\")\n",
    "clf_RF = random_forests(X_train_tfidf, X_test_tfidf, Y_train, Y_test)\n"
   ]
  },
  {
   "cell_type": "markdown",
   "metadata": {},
   "source": [
    "# Multiple Regression with Budget and Review Counts"
   ]
  },
  {
   "cell_type": "markdown",
   "metadata": {},
   "source": [
    "We took our two highest performing metadata features, budget and review counts, and combined them into a multi-linear regression."
   ]
  },
  {
   "cell_type": "code",
   "execution_count": 550,
   "metadata": {},
   "outputs": [],
   "source": [
    "review_totals = []\n",
    "nomalized_budgets = []\n",
    "nomalized_boxoffice = []\n",
    "reviews = []\n",
    "\n",
    "\n",
    "with open('movie_metadata.csv', 'r', encoding='utf-8') as moviecsv:\n",
    "    moviecsv = csv.DictReader(moviecsv)\n",
    "    count = 0\n",
    "    for line in moviecsv:\n",
    "        budget = line[\"Budget\"]\n",
    "        imdb_id = line['tconst']\n",
    "        movie_reviews = c.execute(\"SELECT len, reviews FROM reviews_three WHERE imdb_id ='\" + imdb_id + \"'\").fetchall()\n",
    "        length = movie_reviews[0][0]\n",
    "        da_reviews = movie_reviews[0][1]\n",
    "        if budget != \"0\" and  length > 0 and budget != \"LOOKINTO\":\n",
    "            count += 1\n",
    "            \n",
    "            review_totals.append(length)\n",
    "            reviews.append(da_reviews)\n",
    "            nomalized_budgets.append(math.log(int(budget), 10))\n",
    "            \n",
    "            box_office = line['BoxOffice'].split(\".\")[0]\n",
    "            nomalized_boxoffice.append(math.log(int(box_office), 10))\n",
    "        \n",
    "        \n"
   ]
  },
  {
   "cell_type": "code",
   "execution_count": 551,
   "metadata": {},
   "outputs": [],
   "source": [
    "import pandas as pd\n",
    "import statsmodels.api as sm\n",
    "from sklearn.metrics import r2_score\n",
    "\n",
    "\n",
    "x_reviews_train, x_reviews_test, x_budget_train, x_budget_test, x_total_train, x_total_test, y_bo_train, y_bo_test = train_test_split(reviews, nomalized_budgets, review_totals, nomalized_boxoffice, test_size=.25)\n"
   ]
  },
  {
   "cell_type": "code",
   "execution_count": 538,
   "metadata": {},
   "outputs": [
    {
     "name": "stdout",
     "output_type": "stream",
     "text": [
      "2580\n",
      "Linear Regression: \n",
      "MSE= 0.6140620861524988\n",
      "variance= 0.637283842861\n",
      "Random Forest: \n",
      "MSE= 0.4691759752592424\n",
      "variance= 0.722865634265\n"
     ]
    }
   ],
   "source": [
    "\n",
    "# print(len(x_train_tfidf))\n",
    "print(len(x_budget_train))\n",
    "\n",
    "\n",
    "train_data = []\n",
    "feature_names = [\"Budgets\", \"Review Totals\"]\n",
    "for i in range(len(x_budget_train)):\n",
    "    train_data.append([x_budget_train[i], x_total_train[i]])\n",
    "    \n",
    "test_data = []\n",
    "for i in range(len(x_budget_test)):\n",
    "    test_data.append([x_budget_test[i], x_total_test[i]])\n",
    "df_train = pd.DataFrame(train_data, columns = feature_names)\n",
    "df_test = pd.DataFrame(test_data, columns = feature_names)\n",
    "target_train = pd.DataFrame(y_bo_train, columns = [\"Box Office\"])\n",
    "target_test = pd.DataFrame(y_bo_test, columns=[\"Box Office\"])\n",
    "\n",
    "\n",
    "X_train = df_train[feature_names]\n",
    "X_test = df_test[feature_names]\n",
    "y_train = target_train[\"Box Office\"]\n",
    "y_test = target_test[\"Box Office\"]\n",
    "\n",
    "\n",
    "from sklearn import linear_model\n",
    "clf = linear_model.LinearRegression().fit(X_train, y_train)\n",
    "predicted_LR = clf.predict(X_test)\n",
    "\n",
    "mse = np.mean((predicted_LR - y_test)**2)\n",
    "variance = r2_score(y_test, predicted_LR)\n",
    "\n",
    "print(\"Linear Regression: \")\n",
    "print(\"MSE= \" + str(mse))\n",
    "print(\"variance= \" + str(variance))\n",
    "\n",
    "from sklearn.ensemble import RandomForestRegressor\n",
    "clf = RandomForestRegressor(n_estimators = 20, max_depth = 7, random_state = 0).fit(X_train, y_train)\n",
    "predicted_RF = clf.predict(X_test)\n",
    "\n",
    "# clf = sm.OLS(y_train, X_train).fit()\n",
    "# predicted_OLS = clf.predict(X_test)\n",
    "\n",
    "mse = np.mean((predicted_RF - y_test)**2)\n",
    "variance = r2_score(y_test, predicted_RF)\n",
    "\n",
    "print(\"Random Forest: \")\n",
    "print(\"MSE= \" + str(mse))\n",
    "print(\"variance= \" + str(variance))\n"
   ]
  },
  {
   "cell_type": "code",
   "execution_count": 539,
   "metadata": {},
   "outputs": [
    {
     "name": "stdout",
     "output_type": "stream",
     "text": [
      "0    6.081016\n",
      "1    6.211363\n",
      "2    7.206519\n",
      "3    6.889656\n",
      "4    8.161068\n",
      "Name: Box Office, dtype: float64\n",
      "[ 5.45215211  5.3361739   7.28160951  7.28317279  7.22561278]\n",
      "[ 5.8542498   5.76222556  5.65164135  7.50284053  7.49348833]\n"
     ]
    }
   ],
   "source": [
    "print(y_test[0:5])\n",
    "print(predicted_LR[0:5])\n",
    "print(predicted_RF[0:5])"
   ]
  },
  {
   "cell_type": "markdown",
   "metadata": {},
   "source": [
    "# Combining TFIDF with budget, review total features"
   ]
  },
  {
   "cell_type": "markdown",
   "metadata": {},
   "source": [
    "We created a count vectorizor with stopwords excluded as the only constraint. Transforming the count vectors w/ the tfidf transformer"
   ]
  },
  {
   "cell_type": "code",
   "execution_count": 540,
   "metadata": {},
   "outputs": [],
   "source": [
    "count_vect = CountVectorizer(stop_words = stopWords, min_df = 3)\n",
    "X_train_counts = count_vect.fit_transform(x_reviews_train)\n",
    "X_test_counts = count_vect.transform(x_reviews_test)\n",
    "tfidf_transformer = TfidfTransformer()\n",
    "X_train_tfidf = tfidf_transformer.fit_transform(X_train_counts)\n",
    "X_test_tfidf = tfidf_transformer.transform(X_test_counts)\n"
   ]
  },
  {
   "cell_type": "markdown",
   "metadata": {},
   "source": [
    "Here, we are appending the normalized (log 10) budget and review totals to our tfidf matrix for both testing and training data"
   ]
  },
  {
   "cell_type": "code",
   "execution_count": 541,
   "metadata": {},
   "outputs": [],
   "source": [
    "# append features to the training tfidf matrix\n",
    "for i in range(len(x_budget_train)):\n",
    "    # add budget and review totals into their own array\n",
    "    temp = [x_budget_train[i], x_total_train[i]]\n",
    "    # append this array to the end of each movie's tfidf array so that they become one single array\n",
    "    np.append(X_train_tfidf[i][0], temp)\n",
    "\n",
    "    \n",
    "# append features to the testing tfidf matrix\n",
    "for i in range(len(x_budget_test)):\n",
    "    # add budget and review totals into their own array\n",
    "    temp = [x_budget_test[i], x_total_test[i]]\n",
    "    # append this array to the end of each movie's tfidf array so that they become one single array\n",
    "    np.append(X_test_tfidf[i][0], temp)"
   ]
  },
  {
   "cell_type": "markdown",
   "metadata": {},
   "source": [
    "Using linear regression & random forests on the combined feature matrix to predict box office"
   ]
  },
  {
   "cell_type": "code",
   "execution_count": 542,
   "metadata": {},
   "outputs": [
    {
     "name": "stdout",
     "output_type": "stream",
     "text": [
      "Linear Regression: \n",
      "MSE= 0.868325666195\n",
      "variance= 0.487094618134\n",
      "\n",
      "Random Forests: \n",
      "MSE= 0.508438967662\n",
      "variance= 0.699673644329\n"
     ]
    }
   ],
   "source": [
    "predicted_LR = linear_regression(X_train_tfidf, X_test_tfidf, y_bo_train, y_bo_test)\n",
    "print()\n",
    "clf_RF = random_forests(X_train_tfidf, X_test_tfidf, y_bo_train, y_bo_test)"
   ]
  },
  {
   "cell_type": "markdown",
   "metadata": {},
   "source": [
    "In order to reduce noise for our sparse matrix, we only included the top 50 words with highest tfidf scores and well as excluding stop words for our TFIDF vector. We ran the same process for appending our additional features to the TFIDF matrix to calculate the variance w/ linear regression & random forests"
   ]
  },
  {
   "cell_type": "code",
   "execution_count": 543,
   "metadata": {},
   "outputs": [
    {
     "name": "stdout",
     "output_type": "stream",
     "text": [
      "Linear Regression: \n",
      "MSE= 1.33749066074\n",
      "variance= 0.209966738521\n",
      "\n",
      "Random Forests: \n",
      "MSE= 0.702162196653\n",
      "variance= 0.585244587801\n"
     ]
    }
   ],
   "source": [
    "count_vect = CountVectorizer(stop_words = stopWords, max_features= 50, min_df = 3)\n",
    "X_train_counts = count_vect.fit_transform(x_reviews_train)\n",
    "X_test_counts = count_vect.transform(x_reviews_test)\n",
    "tfidf_transformer = TfidfTransformer()\n",
    "X_train_tfidf = tfidf_transformer.fit_transform(X_train_counts)\n",
    "X_test_tfidf = tfidf_transformer.transform(X_test_counts)\n",
    "\n",
    "# append features to the training tfidf matrix\n",
    "for i in range(len(x_budget_train)):\n",
    "    # add budget and review totals into their own array\n",
    "    temp = [x_budget_train[i], x_total_train[i]]\n",
    "    # append this array to the end of each movie's tfidf array so that they become one single array\n",
    "    np.append(X_train_tfidf[i][0], temp)\n",
    "\n",
    "    \n",
    "# append features to the testing tfidf matrix\n",
    "for i in range(len(x_budget_test)):\n",
    "    # add budget and review totals into their own array\n",
    "    temp = [x_budget_test[i], x_total_test[i]]\n",
    "    # append this array to the end of each movie's tfidf array so that they become one single array\n",
    "    np.append(X_test_tfidf[i][0], temp)\n",
    "    \n",
    "predicted_LR = linear_regression(X_train_tfidf, X_test_tfidf, y_bo_train, y_bo_test)\n",
    "print()\n",
    "clf_RF = random_forests(X_train_tfidf, X_test_tfidf, y_bo_train, y_bo_test)"
   ]
  },
  {
   "cell_type": "markdown",
   "metadata": {},
   "source": [
    "# K-Fold Cross Validation\n",
    "Because we ended up with a smaller subset of data, we used a K-Fold cross validation with 10 folds to get the most out of our data."
   ]
  },
  {
   "cell_type": "code",
   "execution_count": 544,
   "metadata": {
    "collapsed": true
   },
   "outputs": [],
   "source": [
    "from sklearn.model_selection import cross_val_score\n",
    "def cross_validation(X, Y):\n",
    "    x_reshape = np.reshape(X, (-1, 1))\n",
    "    linear = linear_model.LinearRegression()\n",
    "    randomforest = RandomForestRegressor(n_estimators = 15, max_depth = 6, random_state = 0)\n",
    "    scores = cross_val_score(linear, x_reshape, Y, cv=10)\n",
    "    print(\"linear regression\")\n",
    "    print(scores.mean())\n",
    "    print()\n",
    "    print(\"random forest\")\n",
    "    scores = cross_val_score(randomforest, x_reshape, Y, cv=10)\n",
    "    print(scores.mean())"
   ]
  },
  {
   "cell_type": "markdown",
   "metadata": {},
   "source": [
    "### Budget "
   ]
  },
  {
   "cell_type": "code",
   "execution_count": 545,
   "metadata": {},
   "outputs": [
    {
     "name": "stdout",
     "output_type": "stream",
     "text": [
      "linear regression\n",
      "0.568365478017\n",
      "\n",
      "random forest\n",
      "0.588350753079\n"
     ]
    }
   ],
   "source": [
    "cross_validation(normalized_budgets, normalized_boxoffice)"
   ]
  },
  {
   "cell_type": "markdown",
   "metadata": {},
   "source": [
    "### Review Score"
   ]
  },
  {
   "cell_type": "code",
   "execution_count": 546,
   "metadata": {},
   "outputs": [
    {
     "name": "stdout",
     "output_type": "stream",
     "text": [
      "linear regression\n",
      "-0.181693043832\n",
      "\n",
      "random forest\n",
      "0.0428008519159\n"
     ]
    }
   ],
   "source": [
    "cross_validation(all_review_scores, review_boxoffice)"
   ]
  },
  {
   "cell_type": "markdown",
   "metadata": {},
   "source": [
    "### Genre"
   ]
  },
  {
   "cell_type": "code",
   "execution_count": 553,
   "metadata": {},
   "outputs": [
    {
     "name": "stdout",
     "output_type": "stream",
     "text": [
      "linear regression\n",
      "-0.155996687084\n",
      "\n",
      "random forest\n",
      "0.0344178427748\n"
     ]
    }
   ],
   "source": [
    "cross_validation(transformed_genres, normalized_boxoffice)"
   ]
  },
  {
   "cell_type": "markdown",
   "metadata": {},
   "source": [
    "### Review counts in the first 3 weeks"
   ]
  },
  {
   "cell_type": "code",
   "execution_count": 554,
   "metadata": {},
   "outputs": [
    {
     "name": "stdout",
     "output_type": "stream",
     "text": [
      "linear regression\n",
      "0.0280681050306\n",
      "\n",
      "random forest\n",
      "0.522150751656\n"
     ]
    }
   ],
   "source": [
    "cross_validation(review_counts, normalized_boxoffice)"
   ]
  },
  {
   "cell_type": "code",
   "execution_count": null,
   "metadata": {
    "collapsed": true
   },
   "outputs": [],
   "source": []
  },
  {
   "cell_type": "code",
   "execution_count": null,
   "metadata": {
    "collapsed": true
   },
   "outputs": [],
   "source": []
  }
 ],
 "metadata": {
  "kernelspec": {
   "display_name": "Python 3",
   "language": "python",
   "name": "python3"
  },
  "language_info": {
   "codemirror_mode": {
    "name": "ipython",
    "version": 3
   },
   "file_extension": ".py",
   "mimetype": "text/x-python",
   "name": "python",
   "nbconvert_exporter": "python",
   "pygments_lexer": "ipython3",
   "version": "3.6.3"
  }
 },
 "nbformat": 4,
 "nbformat_minor": 2
}
